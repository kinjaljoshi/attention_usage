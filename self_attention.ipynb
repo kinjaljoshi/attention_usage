{
  "cells": [
    {
      "cell_type": "markdown",
      "metadata": {
        "id": "view-in-github",
        "colab_type": "text"
      },
      "source": [
        "<a href=\"https://colab.research.google.com/github/kinjaljoshi/attention_usage/blob/main/self_attention.ipynb\" target=\"_parent\"><img src=\"https://colab.research.google.com/assets/colab-badge.svg\" alt=\"Open In Colab\"/></a>"
      ]
    },
    {
      "cell_type": "markdown",
      "id": "9f40c232-df6e-49df-9016-6459e4af2e1e",
      "metadata": {
        "tags": [],
        "id": "9f40c232-df6e-49df-9016-6459e4af2e1e"
      },
      "source": [
        "# Self-Attention"
      ]
    },
    {
      "cell_type": "markdown",
      "id": "f4226d63-8d76-40bc-a8e6-0f290a159418",
      "metadata": {
        "id": "f4226d63-8d76-40bc-a8e6-0f290a159418"
      },
      "source": [
        "Attention** is an essential component of neural network **Transformers**\n",
        "\n",
        "\n",
        "**Self-Attention**, allows to establish relationships among the words, characters and symbols, that are used for input and collectively called **Tokens**.\n",
        "\n",
        "\n",
        "Before diving into the code, let’s understand how self-attention works conceptually.\n",
        "\n",
        "Query (Q): Represents what each word is searching for in other words.\n",
        "Key (K): Represents the meaning of each word that other words can search for.\n",
        "Value (V): Represents the actual content that will be used in the attention calculation.\n",
        "\n",
        "![explain.png](data:image/png;base64,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)\n",
        "\n",
        "\n",
        "\n",
        "Let's say we have a customer database:\n",
        "\n",
        "1. Query: “Find customers who bought Apple products.”\n",
        "2. Key: Stored data like “Customer Purchase History.”\n",
        "3. Value: The actual customer details.\n",
        "In self-attention, instead of searching a database, we search words in the same sentence."
      ]
    },
    {
      "cell_type": "markdown",
      "id": "63b86036-1369-441c-a14d-3ba7bdaa103b",
      "metadata": {
        "tags": [],
        "id": "63b86036-1369-441c-a14d-3ba7bdaa103b"
      },
      "source": [
        "# Define word embeddings\n",
        "\n"
      ]
    },
    {
      "cell_type": "code",
      "execution_count": 18,
      "id": "5c520e0b-c6e4-43ce-93f5-c0f2b5e75438",
      "metadata": {
        "height": 80,
        "id": "5c520e0b-c6e4-43ce-93f5-c0f2b5e75438"
      },
      "outputs": [],
      "source": [
        "import torch\n",
        "\n",
        "# Define example token embeddings (word representations)\n",
        "token_embeddings = torch.tensor([\n",
        "    [1.16, 0.23],  # \"He\"\n",
        "    [0.57, 1.36],  # \"Eats\"\n",
        "    [4.41, -2.16]  # \"Apple\"\n",
        "], dtype=torch.float32)  # Shape: (3, 2) -> 3 words, each 2-dimensional"
      ]
    },
    {
      "cell_type": "markdown",
      "id": "125c4f0d-83b6-488f-8d91-66c54776bf2f",
      "metadata": {
        "id": "125c4f0d-83b6-488f-8d91-66c54776bf2f"
      },
      "source": [
        "# Initialize Query, Key, Value"
      ]
    },
    {
      "cell_type": "code",
      "execution_count": 19,
      "id": "e3392130-cd25-4000-97bb-9612764c83a8",
      "metadata": {
        "height": 879,
        "colab": {
          "base_uri": "https://localhost:8080/"
        },
        "id": "e3392130-cd25-4000-97bb-9612764c83a8",
        "outputId": "790b7a75-04a9-4c21-e538-31564d4bf7e1"
      },
      "outputs": [
        {
          "output_type": "stream",
          "name": "stdout",
          "text": [
            "Query (Q):\n",
            " tensor([[0.6280, 0.3725],\n",
            "        [0.4280, 0.0586],\n",
            "        [2.0970, 1.7193]], grad_fn=<MmBackward0>)\n",
            "\n",
            "Key (K):\n",
            " tensor([[ 0.6564, -0.3415],\n",
            "        [ 0.4528,  0.0570],\n",
            "        [ 2.1781, -1.8451]], grad_fn=<MmBackward0>)\n",
            "\n",
            "Value (V):\n",
            " tensor([[-0.3970, -0.2253],\n",
            "        [-0.2985,  0.4742],\n",
            "        [-1.2576, -2.2797]], grad_fn=<MmBackward0>)\n"
          ]
        }
      ],
      "source": [
        "import torch.nn as nn\n",
        "\n",
        "# Define learnable weight matrices for Q, K, V (random initialization)\n",
        "W_q = nn.Linear(2, 2, bias=False)\n",
        "W_k = nn.Linear(2, 2, bias=False)\n",
        "W_v = nn.Linear(2, 2, bias=False)\n",
        "\n",
        "# Compute Queries, Keys, and Values\n",
        "Q = W_q(token_embeddings)  # (3,2)\n",
        "K = W_k(token_embeddings)  # (3,2)\n",
        "V = W_v(token_embeddings)  # (3,2)\n",
        "\n",
        "# Print values\n",
        "print(\"Query (Q):\\n\", Q)\n",
        "print(\"\\nKey (K):\\n\", K)\n",
        "print(\"\\nValue (V):\\n\", V)\n"
      ]
    },
    {
      "cell_type": "markdown",
      "id": "0c1a5352-4dfb-4968-bab7-8b638505203c",
      "metadata": {
        "id": "0c1a5352-4dfb-4968-bab7-8b638505203c"
      },
      "source": [
        "# Calculate Similarity Score"
      ]
    },
    {
      "cell_type": "code",
      "source": [
        "similarity_scores = torch.matmul(Q, K.T)  # Shape (3,3) -> each word compared with all others\n",
        "print(\"\\nSimilarity Scores (QK^T):\\n\", similarity_scores)\n"
      ],
      "metadata": {
        "colab": {
          "base_uri": "https://localhost:8080/"
        },
        "id": "Iln5n8X63IIZ",
        "outputId": "70863586-1167-4132-c6a9-994ea16981a5"
      },
      "id": "Iln5n8X63IIZ",
      "execution_count": 20,
      "outputs": [
        {
          "output_type": "stream",
          "name": "stdout",
          "text": [
            "\n",
            "Similarity Scores (QK^T):\n",
            " tensor([[0.2850, 0.3056, 0.6805],\n",
            "        [0.2609, 0.1972, 0.8242],\n",
            "        [0.7893, 1.0476, 1.3953]], grad_fn=<MmBackward0>)\n"
          ]
        }
      ]
    },
    {
      "cell_type": "markdown",
      "id": "c75aaaa3-29e0-4c03-8a11-816bd4b7aea3",
      "metadata": {
        "id": "c75aaaa3-29e0-4c03-8a11-816bd4b7aea3"
      },
      "source": [
        "# Scale Similarity score"
      ]
    },
    {
      "cell_type": "code",
      "execution_count": 21,
      "id": "6c17a35a-ceee-4502-9a25-9adbe6a0a1a8",
      "metadata": {
        "height": 284,
        "colab": {
          "base_uri": "https://localhost:8080/"
        },
        "id": "6c17a35a-ceee-4502-9a25-9adbe6a0a1a8",
        "outputId": "6e0d8d61-a110-42b7-e3cf-ff5452fad61d"
      },
      "outputs": [
        {
          "output_type": "stream",
          "name": "stdout",
          "text": [
            "\n",
            "Scaled Similarity Scores:\n",
            " tensor([[0.2015, 0.2161, 0.4812],\n",
            "        [0.1845, 0.1394, 0.5828],\n",
            "        [0.5581, 0.7407, 0.9867]], grad_fn=<DivBackward0>)\n"
          ]
        }
      ],
      "source": [
        "import math\n",
        "\n",
        "d_k = K.shape[1]  # d_k = 2\n",
        "scaled_scores = similarity_scores / math.sqrt(d_k)\n",
        "\n",
        "print(\"\\nScaled Similarity Scores:\\n\", scaled_scores)\n"
      ]
    },
    {
      "cell_type": "markdown",
      "source": [
        "#Apply Softmax to get attention weights"
      ],
      "metadata": {
        "id": "Keud7_MC3e93"
      },
      "id": "Keud7_MC3e93"
    },
    {
      "cell_type": "code",
      "source": [
        "import torch.nn.functional as F\n",
        "\n",
        "# Apply Softmax to get Attention Weights\n",
        "attention_weights = F.softmax(scaled_scores, dim=-1)\n",
        "\n",
        "print(\"\\nAttention Weights (After Softmax):\\n\", attention_weights)\n"
      ],
      "metadata": {
        "colab": {
          "base_uri": "https://localhost:8080/"
        },
        "id": "XmISR5Je3izZ",
        "outputId": "80cc85ec-948f-4565-b3cb-f8e88abafac7"
      },
      "id": "XmISR5Je3izZ",
      "execution_count": 22,
      "outputs": [
        {
          "output_type": "stream",
          "name": "stdout",
          "text": [
            "\n",
            "Attention Weights (After Softmax):\n",
            " tensor([[0.2996, 0.3040, 0.3963],\n",
            "        [0.2903, 0.2775, 0.4323],\n",
            "        [0.2677, 0.3213, 0.4109]], grad_fn=<SoftmaxBackward0>)\n"
          ]
        }
      ]
    },
    {
      "cell_type": "markdown",
      "id": "8f59e708-88f6-4a71-98fa-c2593c0a79c7",
      "metadata": {
        "id": "8f59e708-88f6-4a71-98fa-c2593c0a79c7"
      },
      "source": [
        "# Final attention is calculated by multiplying with Value\n",
        "\n",
        "\n",
        "*   Each row in the final output represents a word in the new context-aware form.\n",
        "*   Each word now contains information from all other words, weighted by attention.\n",
        "* Words that were more important (high similarity score) influenced the final vector more.\n",
        "\n",
        "* Before self-attention, values were arbitrary word embeddings.\n",
        "* After self-attention, embeddings were weighted by attention scores, meaning some values increased while others normalized toward more balanced values.\n",
        "* The network learned to shift representations to match the context."
      ]
    },
    {
      "cell_type": "code",
      "source": [
        "# Compute final attention output\n",
        "attention_output = torch.matmul(attention_weights, V)\n",
        "\n",
        "print(\"He Eats Apple- \")\n",
        "print(\"\\nInitial Embedding : \\n\", token_embeddings)\n",
        "print(\"\\nFinal Attention Output:\\n\", attention_output)\n"
      ],
      "metadata": {
        "colab": {
          "base_uri": "https://localhost:8080/"
        },
        "id": "nw4CuQTq4A5G",
        "outputId": "5fe66a40-95ec-4f42-c8d0-cb382350e326"
      },
      "id": "nw4CuQTq4A5G",
      "execution_count": 28,
      "outputs": [
        {
          "output_type": "stream",
          "name": "stdout",
          "text": [
            "He Eats Apple- \n",
            "\n",
            "Initial Embedding : \n",
            " tensor([[ 1.1600,  0.2300],\n",
            "        [ 0.5700,  1.3600],\n",
            "        [ 4.4100, -2.1600]])\n",
            "\n",
            "Final Attention Output:\n",
            " tensor([[0.6226, 0.1312],\n",
            "        [0.5522, 0.2499],\n",
            "        [0.5669, 0.2324]], grad_fn=<MmBackward0>)\n"
          ]
        }
      ]
    },
    {
      "cell_type": "markdown",
      "source": [
        "**He Eats Apple.**\n",
        "\n",
        "* \"He\" attended strongly to \"Eats\", meaning its representation shifted toward the action.\n",
        "* \"Eats\" is affected by \"He\" and \"Apple\".\n",
        "* \"Apple\" originally had high values, but self-attention reduced them.\n",
        "\n",
        "\n"
      ],
      "metadata": {
        "id": "pAtAoH5o4mph"
      },
      "id": "pAtAoH5o4mph"
    }
  ],
  "metadata": {
    "kernelspec": {
      "display_name": "Python 3 (ipykernel)",
      "language": "python",
      "name": "python3"
    },
    "language_info": {
      "codemirror_mode": {
        "name": "ipython",
        "version": 3
      },
      "file_extension": ".py",
      "mimetype": "text/x-python",
      "name": "python",
      "nbconvert_exporter": "python",
      "pygments_lexer": "ipython3",
      "version": "3.11.9"
    },
    "colab": {
      "provenance": [],
      "include_colab_link": true
    }
  },
  "nbformat": 4,
  "nbformat_minor": 5
}